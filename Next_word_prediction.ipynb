{
  "nbformat": 4,
  "nbformat_minor": 0,
  "metadata": {
    "colab": {
      "provenance": [],
      "gpuType": "T4",
      "authorship_tag": "ABX9TyNipJI72tomNFJM6c7Z0vSH",
      "include_colab_link": true
    },
    "kernelspec": {
      "name": "python3",
      "display_name": "Python 3"
    },
    "language_info": {
      "name": "python"
    },
    "accelerator": "GPU"
  },
  "cells": [
    {
      "cell_type": "markdown",
      "metadata": {
        "id": "view-in-github",
        "colab_type": "text"
      },
      "source": [
        "<a href=\"https://colab.research.google.com/github/IYashCanCode/Next-Word-prediction/blob/main/Next_word_prediction.ipynb\" target=\"_parent\"><img src=\"https://colab.research.google.com/assets/colab-badge.svg\" alt=\"Open In Colab\"/></a>"
      ]
    },
    {
      "cell_type": "code",
      "execution_count": 24,
      "metadata": {
        "id": "e7y81sDNlWE0"
      },
      "outputs": [],
      "source": [
        "faqs = \"\"\"About the Program\n",
        "What is the course fee for  Data Science Mentorship Program (DSMP 2023)\n",
        "The course follows a monthly subscription model where you have to make monthly payments of Rs 799/month.\n",
        "What is the total duration of the course?\n",
        "The total duration of the course is 7 months. So the total course fee becomes 799*7 = Rs 5600(approx.)\n",
        "What is the syllabus of the mentorship program?\n",
        "We will be covering the following modules:\n",
        "Python Fundamentals\n",
        "Python libraries for Data Science\n",
        "Data Analysis\n",
        "SQL for Data Science\n",
        "Maths for Machine Learning\n",
        "ML Algorithms\n",
        "Practical ML\n",
        "MLOPs\n",
        "Case studies\n",
        "You can check the detailed syllabus here - https://learnwith.campusx.in/courses/CampusX-Data-Science-Mentorship-Program-637339afe4b0615a1bbed390\n",
        "Will Deep Learning and NLP be a part of this program?\n",
        "No, NLP and Deep Learning both are not a part of this program’s curriculum.\n",
        "What if I miss a live session? Will I get a recording of the session?\n",
        "Yes all our sessions are recorded, so even if you miss a session you can go back and watch the recording.\n",
        "Where can I find the class schedule?\n",
        "Checkout this google sheet to see month by month time table of the course - https://docs.google.com/spreadsheets/d/16OoTax_A6ORAeCg4emgexhqqPv3noQPYKU7RJ6ArOzk/edit?usp=sharing.\n",
        "What is the time duration of all the live sessions?\n",
        "Roughly, all the sessions last 2 hours.\n",
        "What is the language spoken by the instructor during the sessions?\n",
        "Hinglish\n",
        "How will I be informed about the upcoming class?\n",
        "You will get a mail from our side before every paid session once you become a paid user.\n",
        "Can I do this course if I am from a non-tech background?\n",
        "Yes, absolutely.\n",
        "I am late, can I join the program in the middle?\n",
        "Absolutely, you can join the program anytime.\n",
        "If I join/pay in the middle, will I be able to see all the past lectures?\n",
        "Yes, once you make the payment you will be able to see all the past content in your dashboard.\n",
        "Where do I have to submit the task?\n",
        "You don’t have to submit the task. We will provide you with the solutions, you have to self evaluate the task yourself.\n",
        "Will we do case studies in the program?\n",
        "Yes.\n",
        "Where can we contact you?\n",
        "You can mail us at nitish.campusx@gmail.com\n",
        "Payment/Registration related questions\n",
        "Where do we have to make our payments? Your YouTube channel or website?\n",
        "You have to make all your monthly payments on our website. Here is the link for our website - https://learnwith.campusx.in/\n",
        "Can we pay the entire amount of Rs 5600 all at once?\n",
        "Unfortunately no, the program follows a monthly subscription model.\n",
        "What is the validity of monthly subscription? Suppose if I pay on 15th Jan, then do I have to pay again on 1st Feb or 15th Feb\n",
        "15th Feb. The validity period is 30 days from the day you make the payment. So essentially you can join anytime you don’t have to wait for a month to end.\n",
        "What if I don’t like the course after making the payment. What is the refund policy?\n",
        "You get a 7 days refund period from the day you have made the payment.\n",
        "I am living outside India and I am not able to make the payment on the website, what should I do?\n",
        "You have to contact us by sending a mail at nitish.campusx@gmail.com\n",
        "Post registration queries\n",
        "Till when can I view the paid videos on the website?\n",
        "This one is tricky, so read carefully. You can watch the videos till your subscription is valid. Suppose you have purchased subscription on 21st Jan, you will be able to watch all the past paid sessions in the period of 21st Jan to 20th Feb. But after 21st Feb you will have to purchase the subscription again.\n",
        "But once the course is over and you have paid us Rs 5600(or 7 installments of Rs 799) you will be able to watch the paid sessions till Aug 2024.\n",
        "Why lifetime validity is not provided?\n",
        "Because of the low course fee.\n",
        "Where can I reach out in case of a doubt after the session?\n",
        "You will have to fill a google form provided in your dashboard and our team will contact you for a 1 on 1 doubt clearance session\n",
        "If I join the program late, can I still ask past week doubts?\n",
        "Yes, just select past week doubt in the doubt clearance google form.\n",
        "I am living outside India and I am not able to make the payment on the website, what should I do?\n",
        "You have to contact us by sending a mail at nitish.campusx@gmai.com\n",
        "Certificate and Placement Assistance related queries\n",
        "What is the criteria to get the certificate?\n",
        "There are 2 criterias:\n",
        "You have to pay the entire fee of Rs 5600\n",
        "You have to attempt all the course assessments.\n",
        "I am joining late. How can I pay payment of the earlier months?\n",
        "You will get a link to pay fee of earlier months in your dashboard once you pay for the current month.\n",
        "I have read that Placement assistance is a part of this program. What comes under Placement assistance?\n",
        "This is to clarify that Placement assistance does not mean Placement guarantee. So we dont guarantee you any jobs or for that matter even interview calls. So if you are planning to join this course just for placements, I am afraid you will be disappointed. Here is what comes under placement assistance\n",
        "Portfolio Building sessions\n",
        "Soft skill sessions\n",
        "Sessions with industry mentors\n",
        "Discussion on Job hunting strategies\n",
        "\"\"\""
      ]
    },
    {
      "cell_type": "code",
      "source": [
        "import numpy as np\n",
        "import tensorflow as tf\n",
        "from tensorflow.keras.preprocessing.text import Tokenizer\n",
        "from tensorflow.keras.utils import pad_sequences,to_categorical\n",
        "from tensorflow.keras.layers import Embedding,Dense,LSTM\n",
        "from tensorflow.keras.models import Sequential\n",
        "from sklearn.model_selection import train_test_split as TTS"
      ],
      "metadata": {
        "id": "HVyzcdmGloLg"
      },
      "execution_count": 25,
      "outputs": []
    },
    {
      "cell_type": "code",
      "source": [
        "token = Tokenizer()"
      ],
      "metadata": {
        "id": "sUiWt58xnbYu"
      },
      "execution_count": 26,
      "outputs": []
    },
    {
      "cell_type": "code",
      "source": [
        "token.fit_on_texts([faqs])"
      ],
      "metadata": {
        "id": "GztdUbGrfgKi"
      },
      "execution_count": 27,
      "outputs": []
    },
    {
      "cell_type": "code",
      "source": [
        "word_index = token.word_index"
      ],
      "metadata": {
        "id": "ooG4ORIOtmJV"
      },
      "execution_count": 28,
      "outputs": []
    },
    {
      "cell_type": "code",
      "source": [
        "text_sequence = []\n",
        "for sentence in faqs.split('\\n'):\n",
        "  text_seq = token.texts_to_sequences([sentence])[0]\n",
        "  for i in range(1,len(text_seq)):\n",
        "    text_sequence.append(text_seq[:i+1])"
      ],
      "metadata": {
        "id": "UJQ_DQvSbCCE"
      },
      "execution_count": 29,
      "outputs": []
    },
    {
      "cell_type": "code",
      "source": [
        "max_pad_sequence = max([len(i.split()) for i in faqs.split('\\n')])"
      ],
      "metadata": {
        "id": "L4PYpM9rdpLh"
      },
      "execution_count": 30,
      "outputs": []
    },
    {
      "cell_type": "code",
      "source": [
        "pad_seq = pad_sequences(text_sequence,maxlen=max_pad_sequence)"
      ],
      "metadata": {
        "id": "gmuLpFzpqA-n"
      },
      "execution_count": 31,
      "outputs": []
    },
    {
      "cell_type": "code",
      "source": [
        "X = pad_seq[:,:-1]\n",
        "y = pad_seq[:,-1]"
      ],
      "metadata": {
        "id": "TTRXtLjkroxz"
      },
      "execution_count": 32,
      "outputs": []
    },
    {
      "cell_type": "code",
      "source": [
        "y = to_categorical(y,num_classes=283)"
      ],
      "metadata": {
        "id": "lKKvh5I-seRV"
      },
      "execution_count": 33,
      "outputs": []
    },
    {
      "cell_type": "code",
      "source": [
        "X.shape,y.shape"
      ],
      "metadata": {
        "colab": {
          "base_uri": "https://localhost:8080/"
        },
        "id": "SWi0hJxAuOCI",
        "outputId": "2390261a-232a-428b-823f-088896c384c5"
      },
      "execution_count": 34,
      "outputs": [
        {
          "output_type": "execute_result",
          "data": {
            "text/plain": [
              "((863, 56), (863, 283))"
            ]
          },
          "metadata": {},
          "execution_count": 34
        }
      ]
    },
    {
      "cell_type": "code",
      "source": [
        "model = Sequential()\n",
        "model.add(Embedding(283,100,input_length = 56))\n",
        "model.add(LSTM(150))\n",
        "model.add(Dense(283,activation='softmax'))"
      ],
      "metadata": {
        "id": "29rOBstkvkEQ"
      },
      "execution_count": 35,
      "outputs": []
    },
    {
      "cell_type": "code",
      "source": [
        "model.compile(loss='categorical_crossentropy',optimizer='Adam',metrics=['accuracy'])"
      ],
      "metadata": {
        "id": "f19m6S5oweHg"
      },
      "execution_count": 36,
      "outputs": []
    },
    {
      "cell_type": "code",
      "source": [
        "model.summary()"
      ],
      "metadata": {
        "colab": {
          "base_uri": "https://localhost:8080/"
        },
        "id": "z3UUZKKJwpwP",
        "outputId": "64b392cf-e495-4898-c9f5-460a7a6e6f8d"
      },
      "execution_count": 37,
      "outputs": [
        {
          "output_type": "stream",
          "name": "stdout",
          "text": [
            "Model: \"sequential_1\"\n",
            "_________________________________________________________________\n",
            " Layer (type)                Output Shape              Param #   \n",
            "=================================================================\n",
            " embedding_1 (Embedding)     (None, 56, 100)           28300     \n",
            "                                                                 \n",
            " lstm_1 (LSTM)               (None, 150)               150600    \n",
            "                                                                 \n",
            " dense_1 (Dense)             (None, 283)               42733     \n",
            "                                                                 \n",
            "=================================================================\n",
            "Total params: 221633 (865.75 KB)\n",
            "Trainable params: 221633 (865.75 KB)\n",
            "Non-trainable params: 0 (0.00 Byte)\n",
            "_________________________________________________________________\n"
          ]
        }
      ]
    },
    {
      "cell_type": "code",
      "source": [
        "model.fit(X,y,epochs= 100)"
      ],
      "metadata": {
        "colab": {
          "base_uri": "https://localhost:8080/"
        },
        "id": "AhPuxwdewq48",
        "outputId": "085ea65c-1b41-4c7c-c634-3a1ad380ad68"
      },
      "execution_count": 58,
      "outputs": [
        {
          "output_type": "stream",
          "name": "stdout",
          "text": [
            "Epoch 1/100\n",
            "27/27 [==============================] - 4s 131ms/step - loss: 0.5933 - accuracy: 0.9061\n",
            "Epoch 2/100\n",
            "27/27 [==============================] - 1s 44ms/step - loss: 0.5601 - accuracy: 0.9119\n",
            "Epoch 3/100\n",
            "27/27 [==============================] - 1s 48ms/step - loss: 0.5101 - accuracy: 0.9189\n",
            "Epoch 4/100\n",
            "27/27 [==============================] - 1s 38ms/step - loss: 0.4758 - accuracy: 0.9305\n",
            "Epoch 5/100\n",
            "27/27 [==============================] - 1s 57ms/step - loss: 0.4392 - accuracy: 0.9305\n",
            "Epoch 6/100\n",
            "27/27 [==============================] - 1s 40ms/step - loss: 0.4171 - accuracy: 0.9282\n",
            "Epoch 7/100\n",
            "27/27 [==============================] - 1s 20ms/step - loss: 0.3846 - accuracy: 0.9340\n",
            "Epoch 8/100\n",
            "27/27 [==============================] - 1s 34ms/step - loss: 0.3649 - accuracy: 0.9374\n",
            "Epoch 9/100\n",
            "27/27 [==============================] - 1s 26ms/step - loss: 0.3440 - accuracy: 0.9386\n",
            "Epoch 10/100\n",
            "27/27 [==============================] - 1s 20ms/step - loss: 0.3270 - accuracy: 0.9397\n",
            "Epoch 11/100\n",
            "27/27 [==============================] - 0s 8ms/step - loss: 0.3165 - accuracy: 0.9374\n",
            "Epoch 12/100\n",
            "27/27 [==============================] - 1s 14ms/step - loss: 0.2999 - accuracy: 0.9397\n",
            "Epoch 13/100\n",
            "27/27 [==============================] - 0s 14ms/step - loss: 0.2879 - accuracy: 0.9374\n",
            "Epoch 14/100\n",
            "27/27 [==============================] - 0s 8ms/step - loss: 0.2755 - accuracy: 0.9432\n",
            "Epoch 15/100\n",
            "27/27 [==============================] - 0s 7ms/step - loss: 0.2630 - accuracy: 0.9502\n",
            "Epoch 16/100\n",
            "27/27 [==============================] - 0s 7ms/step - loss: 0.2560 - accuracy: 0.9397\n",
            "Epoch 17/100\n",
            "27/27 [==============================] - 0s 7ms/step - loss: 0.2479 - accuracy: 0.9409\n",
            "Epoch 18/100\n",
            "27/27 [==============================] - 0s 7ms/step - loss: 0.2410 - accuracy: 0.9444\n",
            "Epoch 19/100\n",
            "27/27 [==============================] - 0s 7ms/step - loss: 0.2315 - accuracy: 0.9444\n",
            "Epoch 20/100\n",
            "27/27 [==============================] - 0s 13ms/step - loss: 0.2279 - accuracy: 0.9479\n",
            "Epoch 21/100\n",
            "27/27 [==============================] - 0s 13ms/step - loss: 0.2200 - accuracy: 0.9467\n",
            "Epoch 22/100\n",
            "27/27 [==============================] - 0s 7ms/step - loss: 0.2125 - accuracy: 0.9467\n",
            "Epoch 23/100\n",
            "27/27 [==============================] - 0s 7ms/step - loss: 0.2068 - accuracy: 0.9455\n",
            "Epoch 24/100\n",
            "27/27 [==============================] - 0s 7ms/step - loss: 0.2050 - accuracy: 0.9444\n",
            "Epoch 25/100\n",
            "27/27 [==============================] - 0s 6ms/step - loss: 0.1983 - accuracy: 0.9455\n",
            "Epoch 26/100\n",
            "27/27 [==============================] - 0s 13ms/step - loss: 0.1934 - accuracy: 0.9490\n",
            "Epoch 27/100\n",
            "27/27 [==============================] - 0s 7ms/step - loss: 0.1904 - accuracy: 0.9432\n",
            "Epoch 28/100\n",
            "27/27 [==============================] - 0s 7ms/step - loss: 0.1863 - accuracy: 0.9502\n",
            "Epoch 29/100\n",
            "27/27 [==============================] - 0s 13ms/step - loss: 0.1831 - accuracy: 0.9444\n",
            "Epoch 30/100\n",
            "27/27 [==============================] - 0s 7ms/step - loss: 0.1795 - accuracy: 0.9409\n",
            "Epoch 31/100\n",
            "27/27 [==============================] - 0s 7ms/step - loss: 0.1778 - accuracy: 0.9421\n",
            "Epoch 32/100\n",
            "27/27 [==============================] - 0s 8ms/step - loss: 0.1733 - accuracy: 0.9444\n",
            "Epoch 33/100\n",
            "27/27 [==============================] - 0s 14ms/step - loss: 0.1721 - accuracy: 0.9432\n",
            "Epoch 34/100\n",
            "27/27 [==============================] - 0s 7ms/step - loss: 0.1663 - accuracy: 0.9467\n",
            "Epoch 35/100\n",
            "27/27 [==============================] - 0s 7ms/step - loss: 0.1647 - accuracy: 0.9479\n",
            "Epoch 36/100\n",
            "27/27 [==============================] - 0s 7ms/step - loss: 0.1637 - accuracy: 0.9479\n",
            "Epoch 37/100\n",
            "27/27 [==============================] - 0s 7ms/step - loss: 0.1639 - accuracy: 0.9444\n",
            "Epoch 38/100\n",
            "27/27 [==============================] - 0s 7ms/step - loss: 0.1613 - accuracy: 0.9479\n",
            "Epoch 39/100\n",
            "27/27 [==============================] - 0s 13ms/step - loss: 0.1577 - accuracy: 0.9455\n",
            "Epoch 40/100\n",
            "27/27 [==============================] - 0s 7ms/step - loss: 0.1550 - accuracy: 0.9467\n",
            "Epoch 41/100\n",
            "27/27 [==============================] - 0s 7ms/step - loss: 0.1517 - accuracy: 0.9432\n",
            "Epoch 42/100\n",
            "27/27 [==============================] - 1s 19ms/step - loss: 0.1523 - accuracy: 0.9421\n",
            "Epoch 43/100\n",
            "27/27 [==============================] - 0s 7ms/step - loss: 0.1502 - accuracy: 0.9421\n",
            "Epoch 44/100\n",
            "27/27 [==============================] - 0s 7ms/step - loss: 0.1467 - accuracy: 0.9479\n",
            "Epoch 45/100\n",
            "27/27 [==============================] - 0s 10ms/step - loss: 0.1470 - accuracy: 0.9421\n",
            "Epoch 46/100\n",
            "27/27 [==============================] - 0s 9ms/step - loss: 0.1454 - accuracy: 0.9421\n",
            "Epoch 47/100\n",
            "27/27 [==============================] - 0s 9ms/step - loss: 0.1460 - accuracy: 0.9479\n",
            "Epoch 48/100\n",
            "27/27 [==============================] - 0s 10ms/step - loss: 0.1446 - accuracy: 0.9397\n",
            "Epoch 49/100\n",
            "27/27 [==============================] - 0s 9ms/step - loss: 0.1433 - accuracy: 0.9455\n",
            "Epoch 50/100\n",
            "27/27 [==============================] - 1s 19ms/step - loss: 0.1417 - accuracy: 0.9421\n",
            "Epoch 51/100\n",
            "27/27 [==============================] - 0s 10ms/step - loss: 0.1420 - accuracy: 0.9479\n",
            "Epoch 52/100\n",
            "27/27 [==============================] - 0s 9ms/step - loss: 0.1378 - accuracy: 0.9479\n",
            "Epoch 53/100\n",
            "27/27 [==============================] - 0s 9ms/step - loss: 0.1374 - accuracy: 0.9467\n",
            "Epoch 54/100\n",
            "27/27 [==============================] - 0s 9ms/step - loss: 0.1351 - accuracy: 0.9455\n",
            "Epoch 55/100\n",
            "27/27 [==============================] - 0s 10ms/step - loss: 0.1356 - accuracy: 0.9444\n",
            "Epoch 56/100\n",
            "27/27 [==============================] - 0s 9ms/step - loss: 0.1356 - accuracy: 0.9455\n",
            "Epoch 57/100\n",
            "27/27 [==============================] - 0s 7ms/step - loss: 0.1336 - accuracy: 0.9490\n",
            "Epoch 58/100\n",
            "27/27 [==============================] - 0s 13ms/step - loss: 0.1330 - accuracy: 0.9432\n",
            "Epoch 59/100\n",
            "27/27 [==============================] - 0s 8ms/step - loss: 0.1301 - accuracy: 0.9444\n",
            "Epoch 60/100\n",
            "27/27 [==============================] - 0s 7ms/step - loss: 0.1319 - accuracy: 0.9432\n",
            "Epoch 61/100\n",
            "27/27 [==============================] - 0s 7ms/step - loss: 0.1308 - accuracy: 0.9432\n",
            "Epoch 62/100\n",
            "27/27 [==============================] - 0s 7ms/step - loss: 0.1297 - accuracy: 0.9409\n",
            "Epoch 63/100\n",
            "27/27 [==============================] - 0s 7ms/step - loss: 0.1299 - accuracy: 0.9421\n",
            "Epoch 64/100\n",
            "27/27 [==============================] - 0s 7ms/step - loss: 0.1280 - accuracy: 0.9421\n",
            "Epoch 65/100\n",
            "27/27 [==============================] - 0s 7ms/step - loss: 0.1273 - accuracy: 0.9467\n",
            "Epoch 66/100\n",
            "27/27 [==============================] - 0s 7ms/step - loss: 0.1240 - accuracy: 0.9455\n",
            "Epoch 67/100\n",
            "27/27 [==============================] - 0s 7ms/step - loss: 0.1254 - accuracy: 0.9432\n",
            "Epoch 68/100\n",
            "27/27 [==============================] - 0s 7ms/step - loss: 0.1245 - accuracy: 0.9432\n",
            "Epoch 69/100\n",
            "27/27 [==============================] - 0s 7ms/step - loss: 0.1262 - accuracy: 0.9432\n",
            "Epoch 70/100\n",
            "27/27 [==============================] - 0s 12ms/step - loss: 0.1231 - accuracy: 0.9455\n",
            "Epoch 71/100\n",
            "27/27 [==============================] - 0s 7ms/step - loss: 0.1237 - accuracy: 0.9467\n",
            "Epoch 72/100\n",
            "27/27 [==============================] - 0s 7ms/step - loss: 0.1214 - accuracy: 0.9444\n",
            "Epoch 73/100\n",
            "27/27 [==============================] - 0s 7ms/step - loss: 0.1245 - accuracy: 0.9409\n",
            "Epoch 74/100\n",
            "27/27 [==============================] - 0s 7ms/step - loss: 0.1220 - accuracy: 0.9467\n",
            "Epoch 75/100\n",
            "27/27 [==============================] - 0s 7ms/step - loss: 0.1216 - accuracy: 0.9479\n",
            "Epoch 76/100\n",
            "27/27 [==============================] - 0s 7ms/step - loss: 0.1185 - accuracy: 0.9444\n",
            "Epoch 77/100\n",
            "27/27 [==============================] - 0s 7ms/step - loss: 0.1210 - accuracy: 0.9421\n",
            "Epoch 78/100\n",
            "27/27 [==============================] - 0s 7ms/step - loss: 0.1182 - accuracy: 0.9467\n",
            "Epoch 79/100\n",
            "27/27 [==============================] - 0s 7ms/step - loss: 0.1195 - accuracy: 0.9432\n",
            "Epoch 80/100\n",
            "27/27 [==============================] - 0s 7ms/step - loss: 0.1182 - accuracy: 0.9502\n",
            "Epoch 81/100\n",
            "27/27 [==============================] - 0s 6ms/step - loss: 0.1201 - accuracy: 0.9397\n",
            "Epoch 82/100\n",
            "27/27 [==============================] - 0s 7ms/step - loss: 0.1174 - accuracy: 0.9467\n",
            "Epoch 83/100\n",
            "27/27 [==============================] - 0s 7ms/step - loss: 0.1178 - accuracy: 0.9444\n",
            "Epoch 84/100\n",
            "27/27 [==============================] - 0s 7ms/step - loss: 0.1170 - accuracy: 0.9467\n",
            "Epoch 85/100\n",
            "27/27 [==============================] - 0s 7ms/step - loss: 0.1173 - accuracy: 0.9455\n",
            "Epoch 86/100\n",
            "27/27 [==============================] - 0s 7ms/step - loss: 0.1167 - accuracy: 0.9444\n",
            "Epoch 87/100\n",
            "27/27 [==============================] - 0s 7ms/step - loss: 0.1156 - accuracy: 0.9444\n",
            "Epoch 88/100\n",
            "27/27 [==============================] - 0s 6ms/step - loss: 0.1155 - accuracy: 0.9455\n",
            "Epoch 89/100\n",
            "27/27 [==============================] - 0s 7ms/step - loss: 0.1167 - accuracy: 0.9432\n",
            "Epoch 90/100\n",
            "27/27 [==============================] - 0s 7ms/step - loss: 0.1145 - accuracy: 0.9444\n",
            "Epoch 91/100\n",
            "27/27 [==============================] - 0s 7ms/step - loss: 0.1157 - accuracy: 0.9490\n",
            "Epoch 92/100\n",
            "27/27 [==============================] - 0s 7ms/step - loss: 0.1145 - accuracy: 0.9479\n",
            "Epoch 93/100\n",
            "27/27 [==============================] - 0s 7ms/step - loss: 0.1159 - accuracy: 0.9467\n",
            "Epoch 94/100\n",
            "27/27 [==============================] - 0s 7ms/step - loss: 0.1134 - accuracy: 0.9444\n",
            "Epoch 95/100\n",
            "27/27 [==============================] - 0s 7ms/step - loss: 0.1136 - accuracy: 0.9455\n",
            "Epoch 96/100\n",
            "27/27 [==============================] - 0s 7ms/step - loss: 0.1152 - accuracy: 0.9386\n",
            "Epoch 97/100\n",
            "27/27 [==============================] - 0s 7ms/step - loss: 0.1119 - accuracy: 0.9444\n",
            "Epoch 98/100\n",
            "27/27 [==============================] - 0s 7ms/step - loss: 0.1135 - accuracy: 0.9490\n",
            "Epoch 99/100\n",
            "27/27 [==============================] - 0s 7ms/step - loss: 0.1120 - accuracy: 0.9479\n",
            "Epoch 100/100\n",
            "27/27 [==============================] - 0s 7ms/step - loss: 0.1138 - accuracy: 0.9467\n"
          ]
        },
        {
          "output_type": "execute_result",
          "data": {
            "text/plain": [
              "<keras.src.callbacks.History at 0x7a9c65ea8a90>"
            ]
          },
          "metadata": {},
          "execution_count": 58
        }
      ]
    },
    {
      "cell_type": "code",
      "source": [
        "text = 'See you soon'\n",
        "for i in range(10):\n",
        "  tokenize = token.texts_to_sequences([text])[0]\n",
        "  padded_text = pad_sequences([tokenize],maxlen=56)\n",
        "  argmax = np.argmax(model.predict(padded_text))\n",
        "  for keys,values in word_index.items():\n",
        "    if values == argmax:\n",
        "      text = text+\" \"+keys\n",
        "      print(text)\n"
      ],
      "metadata": {
        "colab": {
          "base_uri": "https://localhost:8080/"
        },
        "id": "XJqAX0sW1Mjo",
        "outputId": "fb430ce1-730c-4307-f4f0-ad8138fdf403"
      },
      "execution_count": 66,
      "outputs": [
        {
          "output_type": "stream",
          "name": "stdout",
          "text": [
            "1/1 [==============================] - 0s 30ms/step\n",
            "See you soon have\n",
            "1/1 [==============================] - 0s 27ms/step\n",
            "See you soon have to\n",
            "1/1 [==============================] - 0s 30ms/step\n",
            "See you soon have to contact\n",
            "1/1 [==============================] - 0s 28ms/step\n",
            "See you soon have to contact us\n",
            "1/1 [==============================] - 0s 30ms/step\n",
            "See you soon have to contact us by\n",
            "1/1 [==============================] - 0s 26ms/step\n",
            "See you soon have to contact us by sending\n",
            "1/1 [==============================] - 0s 30ms/step\n",
            "See you soon have to contact us by sending a\n",
            "1/1 [==============================] - 0s 27ms/step\n",
            "See you soon have to contact us by sending a mail\n",
            "1/1 [==============================] - 0s 26ms/step\n",
            "See you soon have to contact us by sending a mail at\n",
            "1/1 [==============================] - 0s 36ms/step\n",
            "See you soon have to contact us by sending a mail at nitish\n"
          ]
        }
      ]
    },
    {
      "cell_type": "code",
      "source": [],
      "metadata": {
        "id": "2ykl-XeH385h"
      },
      "execution_count": 62,
      "outputs": []
    }
  ]
}